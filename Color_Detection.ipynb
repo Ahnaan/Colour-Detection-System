{
 "cells": [
  {
   "cell_type": "code",
   "execution_count": 1,
   "metadata": {
    "id": "uJNx-ZFCnIXz"
   },
   "outputs": [],
   "source": [
    "folder1 = 'C:/Users/Acer/Desktop/Color Dataset/red'\n",
    "folder2 = 'C:/Users/Acer/Desktop/Color Dataset/blue'\n",
    "folder3 = 'C:/Users/Acer/Desktop/Color Dataset/green'\n",
    "folder4 = 'C:/Users/Acer/Desktop/Color Dataset/yellow'"
   ]
  },
  {
   "cell_type": "code",
   "execution_count": 2,
   "metadata": {
    "id": "KX83N5v1ueEQ"
   },
   "outputs": [],
   "source": [
    "import os\n",
    "import matplotlib.pyplot as plt\n",
    "import cv2\n",
    "red = []\n",
    "for filename in os.listdir(folder1):\n",
    "  imgg = plt.imread(os.path.join(folder1,filename))\n",
    "  resized_img = cv2.resize(imgg , (350,350))\n",
    "  red.append(resized_img)"
   ]
  },
  {
   "cell_type": "code",
   "execution_count": 3,
   "metadata": {},
   "outputs": [],
   "source": [
    "import os\n",
    "import matplotlib.pyplot as plt\n",
    "import cv2\n",
    "blue = []\n",
    "for filename in os.listdir(folder2):\n",
    "  imgg = plt.imread(os.path.join(folder2,filename))\n",
    "  resized_img = cv2.resize(imgg , (350,350))\n",
    "  blue.append(resized_img)"
   ]
  },
  {
   "cell_type": "code",
   "execution_count": 4,
   "metadata": {},
   "outputs": [],
   "source": [
    "import os\n",
    "import matplotlib.pyplot as plt\n",
    "import cv2\n",
    "green = []\n",
    "for filename in os.listdir(folder3):\n",
    "  imgg = plt.imread(os.path.join(folder3,filename))\n",
    "  resized_img = cv2.resize(imgg , (350,350))\n",
    "  green.append(resized_img)"
   ]
  },
  {
   "cell_type": "code",
   "execution_count": 5,
   "metadata": {},
   "outputs": [],
   "source": [
    "import os\n",
    "import matplotlib.pyplot as plt\n",
    "import cv2\n",
    "yellow = []\n",
    "for filename in os.listdir(folder4):\n",
    "  imgg = plt.imread(os.path.join(folder4,filename))\n",
    "  resized_img = cv2.resize(imgg , (350,350))\n",
    "  yellow.append(resized_img)"
   ]
  },
  {
   "cell_type": "code",
   "execution_count": 6,
   "metadata": {
    "colab": {
     "base_uri": "https://localhost:8080/"
    },
    "id": "dpo5dQZAxXsl",
    "outputId": "eaf40b73-2389-4ccc-87d9-e9245d0eb8fa"
   },
   "outputs": [
    {
     "data": {
      "text/plain": [
       "(5, 350, 350, 3)"
      ]
     },
     "execution_count": 6,
     "metadata": {},
     "output_type": "execute_result"
    }
   ],
   "source": [
    "import numpy as np\n",
    "red = np.array(red)\n",
    "np.shape(red)"
   ]
  },
  {
   "cell_type": "code",
   "execution_count": 7,
   "metadata": {},
   "outputs": [
    {
     "data": {
      "text/plain": [
       "(7, 350, 350, 3)"
      ]
     },
     "execution_count": 7,
     "metadata": {},
     "output_type": "execute_result"
    }
   ],
   "source": [
    "import numpy as np\n",
    "blue = np.array(blue)\n",
    "np.shape(blue)"
   ]
  },
  {
   "cell_type": "code",
   "execution_count": 8,
   "metadata": {},
   "outputs": [
    {
     "data": {
      "text/plain": [
       "(9, 350, 350, 3)"
      ]
     },
     "execution_count": 8,
     "metadata": {},
     "output_type": "execute_result"
    }
   ],
   "source": [
    "import numpy as np\n",
    "green = np.array(green)\n",
    "np.shape(green)"
   ]
  },
  {
   "cell_type": "code",
   "execution_count": 9,
   "metadata": {},
   "outputs": [
    {
     "data": {
      "text/plain": [
       "(6, 350, 350, 3)"
      ]
     },
     "execution_count": 9,
     "metadata": {},
     "output_type": "execute_result"
    }
   ],
   "source": [
    "import numpy as np\n",
    "yellow = np.array(yellow)\n",
    "np.shape(yellow)"
   ]
  },
  {
   "cell_type": "code",
   "execution_count": 10,
   "metadata": {
    "colab": {
     "base_uri": "https://localhost:8080/",
     "height": 286
    },
    "id": "7uynw9MwxiD1",
    "outputId": "637e5e51-f620-48ac-9eb3-11c6b2e515d4"
   },
   "outputs": [
    {
     "data": {
      "text/plain": [
       "(-0.5, 349.5, 349.5, -0.5)"
      ]
     },
     "execution_count": 10,
     "metadata": {},
     "output_type": "execute_result"
    },
    {
     "data": {
      "image/png": "[encoded data removed]",
      "text/plain": [
       "<Figure size 720x504 with 5 Axes>"
      ]
     },
     "metadata": {
      "needs_background": "light"
     },
     "output_type": "display_data"
    }
   ],
   "source": [
    "rows = 2\n",
    "columns = 3\n",
    "fig = plt.figure(figsize=(10, 7))\n",
    "\n",
    "fig.add_subplot(rows, columns, 1)\n",
    "plt.imshow(red[0])\n",
    "plt.axis('off')\n",
    "\n",
    "fig.add_subplot(rows, columns, 2)\n",
    "plt.imshow(red[1])\n",
    "plt.axis('off')\n",
    "\n",
    "fig.add_subplot(rows, columns, 3)\n",
    "plt.imshow(red[2])\n",
    "plt.axis('off')\n",
    "\n",
    "fig.add_subplot(rows, columns, 4)\n",
    "plt.imshow(red[3])\n",
    "plt.axis('off')\n",
    "\n",
    "fig.add_subplot(rows, columns, 5)\n",
    "plt.imshow(red[4])\n",
    "plt.axis('off')"
   ]
  },
  {
   "cell_type": "code",
   "execution_count": 11,
   "metadata": {
    "id": "y4NilltWx3yX"
   },
   "outputs": [
    {
     "data": {
      "text/plain": [
       "(-0.5, 349.5, 349.5, -0.5)"
      ]
     },
     "execution_count": 11,
     "metadata": {},
     "output_type": "execute_result"
    },
    {
     "data": {
      "image/png": "[encoded data removed]",
      "text/plain": [
       "<Figure size 720x504 with 7 Axes>"
      ]
     },
     "metadata": {
      "needs_background": "light"
     },
     "output_type": "display_data"
    }
   ],
   "source": [
    "rows = 3\n",
    "columns = 3\n",
    "fig = plt.figure(figsize=(10, 7))\n",
    "\n",
    "fig.add_subplot(rows, columns, 1)\n",
    "plt.imshow(blue[0])\n",
    "plt.axis('off')\n",
    "\n",
    "fig.add_subplot(rows, columns, 2)\n",
    "plt.imshow(blue[1])\n",
    "plt.axis('off')\n",
    "\n",
    "fig.add_subplot(rows, columns, 3)\n",
    "plt.imshow(blue[2])\n",
    "plt.axis('off')\n",
    "\n",
    "fig.add_subplot(rows, columns, 4)\n",
    "plt.imshow(blue[3])\n",
    "plt.axis('off')\n",
    "\n",
    "fig.add_subplot(rows, columns, 5)\n",
    "plt.imshow(blue[4])\n",
    "plt.axis('off')\n",
    "\n",
    "fig.add_subplot(rows, columns, 6)\n",
    "plt.imshow(blue[5])\n",
    "plt.axis('off')\n",
    "\n",
    "fig.add_subplot(rows, columns, 7)\n",
    "plt.imshow(blue[6])\n",
    "plt.axis('off')"
   ]
  },
  {
   "cell_type": "code",
   "execution_count": 12,
   "metadata": {},
   "outputs": [
    {
     "data": {
      "text/plain": [
       "(-0.5, 349.5, 349.5, -0.5)"
      ]
     },
     "execution_count": 12,
     "metadata": {},
     "output_type": "execute_result"
    },
    {
     "data": {
      "image/png": "[encoded data removed]",
      "text/plain": [
       "<Figure size 720x504 with 9 Axes>"
      ]
     },
     "metadata": {
      "needs_background": "light"
     },
     "output_type": "display_data"
    }
   ],
   "source": [
    "rows = 3\n",
    "columns = 3\n",
    "fig = plt.figure(figsize=(10, 7))\n",
    "\n",
    "fig.add_subplot(rows, columns, 1)\n",
    "plt.imshow(green[0])\n",
    "plt.axis('off')\n",
    "\n",
    "fig.add_subplot(rows, columns, 2)\n",
    "plt.imshow(green[1])\n",
    "plt.axis('off')\n",
    "\n",
    "fig.add_subplot(rows, columns, 3)\n",
    "plt.imshow(green[2])\n",
    "plt.axis('off')\n",
    "\n",
    "fig.add_subplot(rows, columns, 4)\n",
    "plt.imshow(green[3])\n",
    "plt.axis('off')\n",
    "\n",
    "fig.add_subplot(rows, columns, 5)\n",
    "plt.imshow(green[4])\n",
    "plt.axis('off')\n",
    "\n",
    "fig.add_subplot(rows, columns, 6)\n",
    "plt.imshow(green[5])\n",
    "plt.axis('off')\n",
    "\n",
    "fig.add_subplot(rows, columns, 7)\n",
    "plt.imshow(green[6])\n",
    "plt.axis('off')\n",
    "\n",
    "fig.add_subplot(rows, columns, 8)\n",
    "plt.imshow(green[7])\n",
    "plt.axis('off')\n",
    "\n",
    "fig.add_subplot(rows, columns, 9)\n",
    "plt.imshow(green[8])\n",
    "plt.axis('off')"
   ]
  },
  {
   "cell_type": "code",
   "execution_count": 13,
   "metadata": {},
   "outputs": [
    {
     "data": {
      "text/plain": [
       "(-0.5, 349.5, 349.5, -0.5)"
      ]
     },
     "execution_count": 13,
     "metadata": {},
     "output_type": "execute_result"
    },
    {
     "data": {
      "image/png": "[encoded data removed]",
      "text/plain": [
       "<Figure size 720x504 with 6 Axes>"
      ]
     },
     "metadata": {
      "needs_background": "light"
     },
     "output_type": "display_data"
    }
   ],
   "source": [
    "rows = 2\n",
    "columns = 3\n",
    "fig = plt.figure(figsize=(10, 7))\n",
    "\n",
    "fig.add_subplot(rows, columns, 1)\n",
    "plt.imshow(yellow[0])\n",
    "plt.axis('off')\n",
    "\n",
    "fig.add_subplot(rows, columns, 2)\n",
    "plt.imshow(yellow[1])\n",
    "plt.axis('off')\n",
    "\n",
    "fig.add_subplot(rows, columns, 3)\n",
    "plt.imshow(yellow[2])\n",
    "plt.axis('off')\n",
    "\n",
    "fig.add_subplot(rows, columns, 4)\n",
    "plt.imshow(yellow[3])\n",
    "plt.axis('off')\n",
    "\n",
    "fig.add_subplot(rows, columns, 5)\n",
    "plt.imshow(yellow[4])\n",
    "plt.axis('off')\n",
    "\n",
    "fig.add_subplot(rows, columns, 6)\n",
    "plt.imshow(yellow[5])\n",
    "plt.axis('off')\n"
   ]
  },
  {
   "cell_type": "code",
   "execution_count": 14,
   "metadata": {},
   "outputs": [],
   "source": [
    "x = np.concatenate([red, blue, green, yellow])"
   ]
  },
  {
   "cell_type": "code",
   "execution_count": 15,
   "metadata": {
    "colab": {
     "base_uri": "https://localhost:8080/"
    },
    "id": "D-CmC9iw0sFk",
    "outputId": "cdc74218-3f9a-4440-bf1d-8b8694447b96"
   },
   "outputs": [
    {
     "data": {
      "text/plain": [
       "(27, 350, 350, 3)"
      ]
     },
     "execution_count": 15,
     "metadata": {},
     "output_type": "execute_result"
    }
   ],
   "source": [
    "x.shape"
   ]
  },
  {
   "cell_type": "code",
   "execution_count": 16,
   "metadata": {
    "id": "rnUZBoBc0-Qe"
   },
   "outputs": [],
   "source": [
    "y1 = np.zeros(5)\n",
    "y2 = np.ones(7)\n",
    "y3 = np.full(shape=(9), fill_value = 2)\n",
    "y4 = np.full(shape=(6), fill_value = 3)\n",
    "y = np.concatenate([y1 , y2, y3, y4])\n",
    "y = y.reshape(-1 , 1)"
   ]
  },
  {
   "cell_type": "code",
   "execution_count": 17,
   "metadata": {
    "colab": {
     "base_uri": "https://localhost:8080/"
    },
    "id": "SNkZ45mY1M_V",
    "outputId": "6354bea6-d285-4e68-e6a7-b0f3e0badc82"
   },
   "outputs": [
    {
     "data": {
      "text/plain": [
       "(27, 1)"
      ]
     },
     "execution_count": 17,
     "metadata": {},
     "output_type": "execute_result"
    }
   ],
   "source": [
    "y.shape"
   ]
  },
  {
   "cell_type": "code",
   "execution_count": 18,
   "metadata": {},
   "outputs": [],
   "source": [
    "from tensorflow.keras.utils import to_categorical\n",
    "y = to_categorical(y)"
   ]
  },
  {
   "cell_type": "code",
   "execution_count": 19,
   "metadata": {},
   "outputs": [
    {
     "data": {
      "text/plain": [
       "(27, 4)"
      ]
     },
     "execution_count": 19,
     "metadata": {},
     "output_type": "execute_result"
    }
   ],
   "source": [
    "y.shape"
   ]
  },
  {
   "cell_type": "code",
   "execution_count": 20,
   "metadata": {},
   "outputs": [],
   "source": [
    "from keras.layers import Dense, Flatten , Conv2D , MaxPooling2D\n",
    "from keras.models import Sequential"
   ]
  },
  {
   "cell_type": "code",
   "execution_count": 21,
   "metadata": {
    "id": "MWzOZAtJ16UY"
   },
   "outputs": [],
   "source": [
    "model = Sequential()\n",
    "\n",
    "model.add(Conv2D(64, (3, 3), activation='relu', padding='same',input_shape=(350 , 350 , 3)))\n",
    "model.add(Conv2D(32, (3, 3), activation='relu', padding='same'))\n",
    "model.add(MaxPooling2D(pool_size=(2, 2)))\n",
    "\n",
    "model.add(Conv2D(64, (3, 3), activation='relu', padding='same'))\n",
    "model.add(Conv2D(64, (3, 3), activation='relu', padding='same'))\n",
    "model.add(MaxPooling2D(pool_size=(2, 2)))\n",
    "\n",
    "model.add(Flatten())\n",
    "model.add(Dense(100, activation='relu'))\n",
    "model.add(Dense(4, activation='softmax'))"
   ]
  },
  {
   "cell_type": "code",
   "execution_count": 22,
   "metadata": {
    "colab": {
     "base_uri": "https://localhost:8080/"
    },
    "id": "6hl1RZ__2OyA",
    "outputId": "45b318d0-83b1-4318-9f9b-7be1312218fd"
   },
   "outputs": [
    {
     "name": "stdout",
     "output_type": "stream",
     "text": [
      "Model: \"sequential\"\n",
      "_________________________________________________________________\n",
      "Layer (type)                 Output Shape              Param #   \n",
      "=================================================================\n",
      "conv2d (Conv2D)              (None, 350, 350, 64)      1792      \n",
      "_________________________________________________________________\n",
      "conv2d_1 (Conv2D)            (None, 350, 350, 32)      18464     \n",
      "_________________________________________________________________\n",
      "max_pooling2d (MaxPooling2D) (None, 175, 175, 32)      0         \n",
      "_________________________________________________________________\n",
      "conv2d_2 (Conv2D)            (None, 175, 175, 64)      18496     \n",
      "_________________________________________________________________\n",
      "conv2d_3 (Conv2D)            (None, 175, 175, 64)      36928     \n",
      "_________________________________________________________________\n",
      "max_pooling2d_1 (MaxPooling2 (None, 87, 87, 64)        0         \n",
      "_________________________________________________________________\n",
      "flatten (Flatten)            (None, 484416)            0         \n",
      "_________________________________________________________________\n",
      "dense (Dense)                (None, 100)               48441700  \n",
      "_________________________________________________________________\n",
      "dense_1 (Dense)              (None, 4)                 404       \n",
      "=================================================================\n",
      "Total params: 48,517,784\n",
      "Trainable params: 48,517,784\n",
      "Non-trainable params: 0\n",
      "_________________________________________________________________\n"
     ]
    }
   ],
   "source": [
    "model.summary()"
   ]
  },
  {
   "cell_type": "code",
   "execution_count": 23,
   "metadata": {
    "id": "IImdJBDS2QTV"
   },
   "outputs": [],
   "source": [
    "model.compile(optimizer = 'Adam' , loss = 'CategoricalCrossentropy' , metrics = ['accuracy'])"
   ]
  },
  {
   "cell_type": "code",
   "execution_count": 24,
   "metadata": {
    "colab": {
     "base_uri": "https://localhost:8080/"
    },
    "id": "6gSARxwM2aCv",
    "outputId": "fd666aa4-9b11-4c1a-c769-8f58f2dce3fc"
   },
   "outputs": [
    {
     "name": "stdout",
     "output_type": "stream",
     "text": [
      "Epoch 1/50\n",
      "1/1 [==============================] - 13s 13s/step - loss: 15.4097 - accuracy: 0.2963\n",
      "Epoch 2/50\n",
      "1/1 [==============================] - 10s 10s/step - loss: 5515.9512 - accuracy: 0.3333\n",
      "Epoch 3/50\n",
      "1/1 [==============================] - 9s 9s/step - loss: 2982.1162 - accuracy: 0.3704\n",
      "Epoch 4/50\n",
      "1/1 [==============================] - 9s 9s/step - loss: 1416.3839 - accuracy: 0.4074\n",
      "Epoch 5/50\n",
      "1/1 [==============================] - 10s 10s/step - loss: 369.8999 - accuracy: 0.4444\n",
      "Epoch 6/50\n",
      "1/1 [==============================] - 10s 10s/step - loss: 160.3956 - accuracy: 0.7037\n",
      "Epoch 7/50\n",
      "1/1 [==============================] - 10s 10s/step - loss: 92.7609 - accuracy: 0.6667\n",
      "Epoch 8/50\n",
      "1/1 [==============================] - 9s 9s/step - loss: 54.8809 - accuracy: 0.6296\n",
      "Epoch 9/50\n",
      "1/1 [==============================] - 10s 10s/step - loss: 62.1394 - accuracy: 0.7407\n",
      "Epoch 10/50\n",
      "1/1 [==============================] - 10s 10s/step - loss: 33.8336 - accuracy: 0.5926\n",
      "Epoch 11/50\n",
      "1/1 [==============================] - 10s 10s/step - loss: 21.2451 - accuracy: 0.8889\n",
      "Epoch 12/50\n",
      "1/1 [==============================] - 10s 10s/step - loss: 15.3320 - accuracy: 0.9259\n",
      "Epoch 13/50\n",
      "1/1 [==============================] - 10s 10s/step - loss: 11.9089 - accuracy: 0.8519\n",
      "Epoch 14/50\n",
      "1/1 [==============================] - 10s 10s/step - loss: 0.9949 - accuracy: 0.9259\n",
      "Epoch 15/50\n",
      "1/1 [==============================] - 9s 9s/step - loss: 16.4617 - accuracy: 0.7778\n",
      "Epoch 16/50\n",
      "1/1 [==============================] - 10s 10s/step - loss: 3.6597 - accuracy: 0.8889\n",
      "Epoch 17/50\n",
      "1/1 [==============================] - 9s 9s/step - loss: 0.3786 - accuracy: 0.9630\n",
      "Epoch 18/50\n",
      "1/1 [==============================] - 9s 9s/step - loss: 3.2230 - accuracy: 0.9259\n",
      "Epoch 19/50\n",
      "1/1 [==============================] - 9s 9s/step - loss: 5.1608 - accuracy: 0.8889\n",
      "Epoch 20/50\n",
      "1/1 [==============================] - 10s 10s/step - loss: 0.4220 - accuracy: 0.9630\n",
      "Epoch 21/50\n",
      "1/1 [==============================] - 10s 10s/step - loss: 0.5638 - accuracy: 0.9630\n",
      "Epoch 22/50\n",
      "1/1 [==============================] - 10s 10s/step - loss: 1.8000 - accuracy: 0.8889\n",
      "Epoch 23/50\n",
      "1/1 [==============================] - 9s 9s/step - loss: 0.0000e+00 - accuracy: 1.0000\n",
      "Epoch 24/50\n",
      "1/1 [==============================] - 9s 9s/step - loss: 0.0000e+00 - accuracy: 1.0000\n",
      "Epoch 25/50\n",
      "1/1 [==============================] - 9s 9s/step - loss: 3.3068e-05 - accuracy: 1.0000\n",
      "Epoch 26/50\n",
      "1/1 [==============================] - 9s 9s/step - loss: 0.6047 - accuracy: 0.9259\n",
      "Epoch 27/50\n",
      "1/1 [==============================] - 10s 10s/step - loss: 0.0426 - accuracy: 0.9630\n",
      "Epoch 28/50\n",
      "1/1 [==============================] - 10s 10s/step - loss: 0.1590 - accuracy: 0.9630\n",
      "Epoch 29/50\n",
      "1/1 [==============================] - 9s 9s/step - loss: 0.0000e+00 - accuracy: 1.0000\n",
      "Epoch 30/50\n",
      "1/1 [==============================] - 10s 10s/step - loss: 0.0000e+00 - accuracy: 1.0000\n",
      "Epoch 31/50\n",
      "1/1 [==============================] - 9s 9s/step - loss: 1.7661e-08 - accuracy: 1.0000\n",
      "Epoch 32/50\n",
      "1/1 [==============================] - 9s 9s/step - loss: 2.8356 - accuracy: 0.9259\n",
      "Epoch 33/50\n",
      "1/1 [==============================] - 10s 10s/step - loss: 0.0000e+00 - accuracy: 1.0000\n",
      "Epoch 34/50\n",
      "1/1 [==============================] - 9s 9s/step - loss: 0.0000e+00 - accuracy: 1.0000\n",
      "Epoch 35/50\n",
      "1/1 [==============================] - 9s 9s/step - loss: 5.0942 - accuracy: 0.9259\n",
      "Epoch 36/50\n",
      "1/1 [==============================] - 9s 9s/step - loss: 0.9224 - accuracy: 0.9259\n",
      "Epoch 37/50\n",
      "1/1 [==============================] - 9s 9s/step - loss: 0.0000e+00 - accuracy: 1.0000\n",
      "Epoch 38/50\n",
      "1/1 [==============================] - 10s 10s/step - loss: 0.0000e+00 - accuracy: 1.0000\n",
      "Epoch 39/50\n",
      "1/1 [==============================] - 9s 9s/step - loss: 16.2965 - accuracy: 0.8519\n",
      "Epoch 40/50\n",
      "1/1 [==============================] - 9s 9s/step - loss: 0.0000e+00 - accuracy: 1.0000\n",
      "Epoch 41/50\n",
      "1/1 [==============================] - 9s 9s/step - loss: 0.0000e+00 - accuracy: 1.0000\n",
      "Epoch 42/50\n",
      "1/1 [==============================] - 10s 10s/step - loss: 0.0000e+00 - accuracy: 1.0000\n",
      "Epoch 43/50\n",
      "1/1 [==============================] - 10s 10s/step - loss: 2.1354 - accuracy: 0.9259\n",
      "Epoch 44/50\n",
      "1/1 [==============================] - 10s 10s/step - loss: 0.4390 - accuracy: 0.9630\n",
      "Epoch 45/50\n",
      "1/1 [==============================] - 10s 10s/step - loss: 0.0000e+00 - accuracy: 1.0000\n",
      "Epoch 46/50\n",
      "1/1 [==============================] - 10s 10s/step - loss: 0.0000e+00 - accuracy: 1.0000\n",
      "Epoch 47/50\n",
      "1/1 [==============================] - 9s 9s/step - loss: 0.0000e+00 - accuracy: 1.0000\n",
      "Epoch 48/50\n",
      "1/1 [==============================] - 10s 10s/step - loss: 0.0000e+00 - accuracy: 1.0000\n",
      "Epoch 49/50\n",
      "1/1 [==============================] - 10s 10s/step - loss: 0.0000e+00 - accuracy: 1.0000\n",
      "Epoch 50/50\n",
      "1/1 [==============================] - 9s 9s/step - loss: 0.0000e+00 - accuracy: 1.0000\n"
     ]
    },
    {
     "data": {
      "text/plain": [
       "<keras.callbacks.History at 0x16e459627c0>"
      ]
     },
     "execution_count": 24,
     "metadata": {},
     "output_type": "execute_result"
    }
   ],
   "source": [
    "model.fit(x , y , epochs = 50)"
   ]
  },
  {
   "cell_type": "code",
   "execution_count": 25,
   "metadata": {},
   "outputs": [
    {
     "name": "stdout",
     "output_type": "stream",
     "text": [
      "1/1 [==============================] - 2s 2s/step - loss: 0.0000e+00 - accuracy: 1.0000\n"
     ]
    },
    {
     "data": {
      "text/plain": [
       "[0.0, 1.0]"
      ]
     },
     "execution_count": 25,
     "metadata": {},
     "output_type": "execute_result"
    }
   ],
   "source": [
    "model.evaluate(x, y)"
   ]
  },
  {
   "cell_type": "code",
   "execution_count": 26,
   "metadata": {},
   "outputs": [
    {
     "data": {
      "text/plain": [
       "(350, 350, 3)"
      ]
     },
     "execution_count": 26,
     "metadata": {},
     "output_type": "execute_result"
    }
   ],
   "source": [
    "x[0].shape"
   ]
  },
  {
   "cell_type": "code",
   "execution_count": 27,
   "metadata": {},
   "outputs": [],
   "source": [
    "test = x[13] \n",
    "test = test.reshape(1, 350, 350, 3)"
   ]
  },
  {
   "cell_type": "code",
   "execution_count": 28,
   "metadata": {},
   "outputs": [
    {
     "data": {
      "text/plain": [
       "array([2], dtype=int64)"
      ]
     },
     "execution_count": 28,
     "metadata": {},
     "output_type": "execute_result"
    }
   ],
   "source": [
    "np.argmax(model.predict(test), axis=-1)"
   ]
  },
  {
   "cell_type": "code",
   "execution_count": 29,
   "metadata": {},
   "outputs": [],
   "source": [
    "test1 = x[0] \n",
    "test1 = test1.reshape(1, 350, 350, 3)"
   ]
  },
  {
   "cell_type": "code",
   "execution_count": 30,
   "metadata": {},
   "outputs": [
    {
     "data": {
      "text/plain": [
       "array([0], dtype=int64)"
      ]
     },
     "execution_count": 30,
     "metadata": {},
     "output_type": "execute_result"
    }
   ],
   "source": [
    "np.argmax(model.predict(test1), axis=-1)"
   ]
  },
  {
   "cell_type": "code",
   "execution_count": 31,
   "metadata": {},
   "outputs": [],
   "source": [
    "model.save(\"colordetection1.h5\")"
   ]
  },
  {
   "cell_type": "code",
   "execution_count": 35,
   "metadata": {},
   "outputs": [],
   "source": [
    "cap = cv2.VideoCapture(0)\n",
    "\n",
    "while True:\n",
    "\n",
    "    ret, frame = cap.read()\n",
    "    frame1 = np.array(frame)\n",
    "\n",
    "    frame1 = cv2.resize(src = frame1, dsize = (350, 350))\n",
    "    frame1 = frame1.reshape(-1,350,350,3)\n",
    "    pred = np.argmax(model.predict(frame1), axis = -1)\n",
    "    #print(pred)\n",
    "    if pred==0:\n",
    "        cv2.putText(frame , 'red' , (50,50) , cv2.FONT_HERSHEY_COMPLEX , 1 , (0,255,0) , 5)\n",
    "\n",
    "    elif pred==1:\n",
    "        cv2.putText(frame , 'blue' , (50,50) , cv2.FONT_HERSHEY_COMPLEX , 1 , (0,255,0) , 5)\n",
    "\n",
    "    elif pred==2:\n",
    "        cv2.putText(frame , 'green' , (50,50) , cv2.FONT_HERSHEY_COMPLEX , 1 , (0,255,0) , 5)\n",
    "\n",
    "    else:\n",
    "        cv2.putText(frame , 'yellow' , (50,50) , cv2.FONT_HERSHEY_COMPLEX , 1 , (0,255,0) , 5)\n",
    "\n",
    "    cv2.imshow('color' , frame)\n",
    "    if cv2.waitKey(1)==13:\n",
    "        break\n",
    "\n",
    "\n",
    "cap.release()\n",
    "cv2.destroyAllWindows()"
   ]
  },
  {
   "cell_type": "code",
   "execution_count": null,
   "metadata": {},
   "outputs": [],
   "source": []
  }
 ],
 "metadata": {
  "colab": {
   "collapsed_sections": [],
   "name": "Image classification using nn.ipynb",
   "provenance": []
  },
  "kernelspec": {
   "display_name": "Python 3",
   "language": "python",
   "name": "python3"
  },
  "language_info": {
   "codemirror_mode": {
    "name": "ipython",
    "version": 3
   },
   "file_extension": ".py",
   "mimetype": "text/x-python",
   "name": "python",
   "nbconvert_exporter": "python",
   "pygments_lexer": "ipython3",
   "version": "3.8.8"
  }
 },
 "nbformat": 4,
 "nbformat_minor": 1
}
